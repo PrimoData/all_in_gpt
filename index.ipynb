{
 "cells": [
  {
   "cell_type": "code",
   "execution_count": null,
   "metadata": {},
   "outputs": [],
   "source": [
    "from llama_index import (\n",
    "    VectorStoreIndex,\n",
    "    StorageContext,\n",
    "    load_index_from_storage,\n",
    "    download_loader,\n",
    ")\n",
    "\n",
    "import subprocess\n",
    "import json\n",
    "import os\n",
    "\n",
    "openai.api_key = \"\"\n",
    "os.environ[\"OPENAI_API_KEY\"] = \"\"\n"
   ]
  },
  {
   "cell_type": "code",
   "execution_count": null,
   "metadata": {},
   "outputs": [],
   "source": [
    "# Get YouTube Ids for All In Podcasts\n",
    "playlist_id = \"PLn5MTSAqaf8peDZQ57QkJBzewJU1aUokl\"\n",
    "\n",
    "# Run youtube-dl command with verbose output\n",
    "command = [\n",
    "    \"youtube-dl\",\n",
    "    \"--ignore-errors\",\n",
    "    \"--dump-json\",\n",
    "    \"--flat-playlist\",\n",
    "    f\"--playlist-items\",\n",
    "    f\"1-99999\",\n",
    "    f\"https://www.youtube.com/playlist?list={playlist_id}\",\n",
    "]\n",
    "output = subprocess.check_output(command).decode(\"utf-8\")\n",
    "\n",
    "# Parse the output as JSON\n",
    "video_info_list = output.strip().split(\"\\n\")\n",
    "video_ids = [json.loads(video_info)[\"id\"] for video_info in video_info_list]\n",
    "\n",
    "# Convert video IDs to YouTube links\n",
    "ytlinks = [\n",
    "    f\"https://www.youtube.com/watch?v={video_id}\" for video_id in video_ids]\n"
   ]
  },
  {
   "cell_type": "code",
   "execution_count": null,
   "metadata": {},
   "outputs": [],
   "source": [
    "# No transcripts for these YouTube videos\n",
    "ytlinks.remove('https://www.youtube.com/watch?v=llJsxamu8f4')\n",
    "ytlinks.remove('https://www.youtube.com/watch?v=efp-2AHox1U')\n",
    "ytlinks.remove('https://www.youtube.com/watch?v=B2iNXMiGEms')\n",
    "ytlinks.remove('https://www.youtube.com/watch?v=eoZG89pDzzY')\n",
    "ytlinks.remove('https://www.youtube.com/watch?v=jaU1P5-pzLU')\n",
    "ytlinks.remove('https://www.youtube.com/watch?v=uPwvZZkrJ90')\n",
    "ytlinks.remove('https://www.youtube.com/watch?v=-XgCOfvSKDQ')\n",
    "ytlinks.remove('https://www.youtube.com/watch?v=uPwvZZkrJ90')\n"
   ]
  },
  {
   "cell_type": "code",
   "execution_count": null,
   "metadata": {},
   "outputs": [],
   "source": [
    "# Generate a vector index using YouTube transcripts\n",
    "YoutubeTranscriptReader = download_loader(\"YoutubeTranscriptReader\")\n",
    "loader = YoutubeTranscriptReader()\n",
    "docs = loader.load_data(ytlinks=ytlinks)\n",
    "index = VectorStoreIndex.from_documents(docs)\n",
    "\n",
    "# Saving Index for future use\n",
    "index.storage_context.persist()\n"
   ]
  },
  {
   "cell_type": "code",
   "execution_count": null,
   "metadata": {},
   "outputs": [],
   "source": [
    "# Querying the index\n",
    "query_engine = index.as_query_engine()\n",
    "response = query_engine.query(\"What is going on with AI startups?\")\n",
    "print(response)\n"
   ]
  }
 ],
 "metadata": {
  "kernelspec": {
   "display_name": "Python 3",
   "language": "python",
   "name": "python3"
  },
  "language_info": {
   "codemirror_mode": {
    "name": "ipython",
    "version": 3
   },
   "file_extension": ".py",
   "mimetype": "text/x-python",
   "name": "python",
   "nbconvert_exporter": "python",
   "pygments_lexer": "ipython3",
   "version": "3.10.8"
  },
  "orig_nbformat": 4
 },
 "nbformat": 4,
 "nbformat_minor": 2
}
